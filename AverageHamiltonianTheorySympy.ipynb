{
 "cells": [
  {
   "cell_type": "markdown",
   "id": "modular-disabled",
   "metadata": {},
   "source": [
    "# Average Hamiltonian theory\n",
    "\n",
    "The Hamiltonian of a exchange/dipolar/hyperfine coupled system in a doubly rotating frame can be written as\n",
    "\n",
    "$$H(t) = \\omega_A S_z^1 S_z^2 + \\omega_B \\left(S_+^1 S_-^2 \\exp(-i \\omega_C t) + S_-^1 S_+^2 \\exp(i \\omega_C t)\\right)$$\n",
    "\n",
    "The $\\omega_A$ and $\\omega_B$ depend on the type of coupling, but they describe the secular and pseudosecular contributions. The $\\omega_C = \\omega_1 - \\omega_2$ is the resonance frequency offset that was eliminated by going to the rotating frame.\n",
    "\n",
    "We employ the average Hamiltonian theory to retrieve the average Hamiltonian with corrections over the time $t_c = \\frac{2 \\pi}{\\omega_C}$. The zeroth order Hamiltonian is $\\omega_A S_z^1 S_z^2$ and the first order terms vanish. The second order terms are given by Eq. 26 in [1]\n",
    "\n",
    "$$H^2 = \\frac{-1}{6 t_c} \\int_0^{t_c} \\int_0^{t_3} \\int_0^{t_2} [H(t_3), [H(t_2), H(t_1)]] +[H(t_1), [H(t_2), H(t_3)]] dt_1 dt_2 dt_3$$ \n",
    "\n",
    "[1] U. Haeberlen and J. S. Waugh. “Coherent Averaging Effects in Magnetic Resonance”. In: Phys. Rev. 175 (2 Nov. 1968), pp. 453–467. url: https://link.aps.org/doi/10.1103/PhysRev.175.453.\n",
    "\n",
    "We'll use symbolic python to get the integral"
   ]
  },
  {
   "cell_type": "code",
   "execution_count": 7,
   "id": "intellectual-tuning",
   "metadata": {},
   "outputs": [],
   "source": [
    "from sympy import *\n",
    "from sympy.physics.quantum import TensorProduct\n",
    "init_printing()\n",
    "\n",
    "t, t_c, t_1, t_2, t_3 = symbols('t t_c t_1 t_2 t_3', real=True)\n",
    "omega_A, omega_B, omega_C = symbols('omega_A omega_B omega_C', real=True,nonzero=True) \n",
    "#the integrals get branches if omegas are allowed to be zero or imaginary, but sympy allows you to specify they cannot be zero"
   ]
  },
  {
   "cell_type": "code",
   "execution_count": 2,
   "id": "tender-spectacular",
   "metadata": {},
   "outputs": [],
   "source": [
    "#Define Pauli matrices\n",
    "\n",
    "sigma_x = Matrix([\n",
    "    [0,1],\n",
    "    [1,0]\n",
    "])\n",
    "\n",
    "sigma_y = Matrix([\n",
    "    [0,-I],\n",
    "    [I,0]\n",
    "])\n",
    "\n",
    "sigma_z = Matrix([\n",
    "    [1,0],\n",
    "    [0,-1]\n",
    "])\n",
    "\n",
    "sigma_3 = eye(2)"
   ]
  },
  {
   "cell_type": "code",
   "execution_count": 4,
   "id": "soviet-eating",
   "metadata": {},
   "outputs": [],
   "source": [
    "#we will need SzSz, S-S+ and S+S-\n",
    "\n",
    "SzSz = Rational(1,4)*TensorProduct(sigma_z,sigma_z)\n",
    "SpSm = Rational(1,4)*TensorProduct((sigma_x+I*sigma_y),(sigma_x-I*sigma_y))\n",
    "SmSp = Rational(1,4)*TensorProduct((sigma_x-I*sigma_y),(sigma_x+I*sigma_y))"
   ]
  },
  {
   "cell_type": "code",
   "execution_count": 8,
   "id": "treated-reverse",
   "metadata": {},
   "outputs": [],
   "source": [
    "Ham_t = omega_A*SzSz + omega_B*(SpSm*exp(-I*omega_C*t)+ SmSp*exp(I*omega_C*t))"
   ]
  },
  {
   "cell_type": "code",
   "execution_count": 9,
   "id": "colonial-affiliate",
   "metadata": {},
   "outputs": [],
   "source": [
    "H_1 = Ham_t.subs(t,t_1)\n",
    "H_2 = Ham_t.subs(t,t_2)\n",
    "H_3 = Ham_t.subs(t,t_3)\n",
    "\n",
    "Ham_triple_comm = simplify(2*H_3*H_2*H_1 + 2*H_1*H_2*H_3 - H_3*H_1*H_2 - H_2*H_1*H_3 - H_1*H_3*H_2- H_2*H_3*H_1)\n",
    "\n",
    "integral_1 = simplify(integrate(Ham_triple_comm, (t_1,0,t_2)))\n",
    "integral_2 = simplify(integrate(integral_1,(t_2,0,t_3)))\n",
    "integral_3= -simplify(-integrate(integral_2,(t_3,0,t_c))/(6*t_c))\n",
    "\n",
    "full_average = simplify(integral_3.subs(t_c,(2*pi/omega_C)))"
   ]
  },
  {
   "cell_type": "code",
   "execution_count": 16,
   "id": "weighted-tiger",
   "metadata": {},
   "outputs": [
    {
     "data": {
      "image/png": "[encoded data removed]",
      "text/latex": [
       "$\\displaystyle \\left[\\begin{matrix}0 & 0 & 0 & 0\\\\0 & 0 & - \\frac{2 \\omega_{B}^{3}}{\\omega_{C}^{2}} & 0\\\\0 & - \\frac{2 \\omega_{B}^{3}}{\\omega_{C}^{2}} & 0 & 0\\\\0 & 0 & 0 & 0\\end{matrix}\\right]$"
      ],
      "text/plain": [
       "⎡0     0         0      0⎤\n",
       "⎢                        ⎥\n",
       "⎢                   3    ⎥\n",
       "⎢             -2⋅ω_B     ⎥\n",
       "⎢0     0      ────────  0⎥\n",
       "⎢                  2     ⎥\n",
       "⎢               ω_C      ⎥\n",
       "⎢                        ⎥\n",
       "⎢         3              ⎥\n",
       "⎢   -2⋅ω_B               ⎥\n",
       "⎢0  ────────     0      0⎥\n",
       "⎢        2               ⎥\n",
       "⎢     ω_C                ⎥\n",
       "⎢                        ⎥\n",
       "⎣0     0         0      0⎦"
      ]
     },
     "execution_count": 16,
     "metadata": {},
     "output_type": "execute_result"
    }
   ],
   "source": [
    "full_average"
   ]
  },
  {
   "cell_type": "code",
   "execution_count": 17,
   "id": "broke-preparation",
   "metadata": {},
   "outputs": [
    {
     "data": {
      "image/png": "[encoded data removed]",
      "text/latex": [
       "$\\displaystyle \\left[\\begin{matrix}0 & 0 & 0 & 0\\\\0 & 0 & 1 & 0\\\\0 & 1 & 0 & 0\\\\0 & 0 & 0 & 0\\end{matrix}\\right]$"
      ],
      "text/plain": [
       "⎡0  0  0  0⎤\n",
       "⎢          ⎥\n",
       "⎢0  0  1  0⎥\n",
       "⎢          ⎥\n",
       "⎢0  1  0  0⎥\n",
       "⎢          ⎥\n",
       "⎣0  0  0  0⎦"
      ]
     },
     "execution_count": 17,
     "metadata": {},
     "output_type": "execute_result"
    }
   ],
   "source": [
    "SpSm+SmSp"
   ]
  },
  {
   "cell_type": "markdown",
   "id": "secondary-bulgarian",
   "metadata": {},
   "source": [
    "It averages out to $-2 \\frac{\\omega_B^3}{\\omega_C^2} (S_+ S_- + S_+ S_-)$\n",
    "\n",
    "If you want to get it automatically: "
   ]
  },
  {
   "cell_type": "code",
   "execution_count": 10,
   "id": "impressive-benefit",
   "metadata": {},
   "outputs": [],
   "source": [
    "sx1, sy1, sz1, sx2, sy2, sz2 = symbols(' S_x^1 S_y^1 S_z^1 S_x^2 S_y^2 S_z^2')\n",
    "SS = Matrix([2*sx1*sx2, 2*sx1*sy2, 2*sx1*sz2, sx1, 2*sy1*sx2, 2*sy1*sy2, 2*sy1*sz2, sy1, 2*sz1*sx2, 2*sz1*sy2, 2*sz1*sz2, sz1, sx2,sy2,sz2,1])"
   ]
  },
  {
   "cell_type": "code",
   "execution_count": 13,
   "id": "involved-painting",
   "metadata": {},
   "outputs": [],
   "source": [
    "def hilbert_to_prod_op(rho):\n",
    "    \"\"\"\n",
    "    Takes a 4x4 density matrix and produces a 16 entry density vector in product operator basis\n",
    "    \"\"\"\n",
    "    \n",
    "    new_rho = Matrix(zeros(16,1))\n",
    "\n",
    "    new_rho[0] = simplify(trace(rho*TensorProduct(sigma_x,sigma_x)))\n",
    "    new_rho[1] = simplify(trace(rho*TensorProduct(sigma_x,sigma_y)))\n",
    "    new_rho[2] = simplify(trace(rho*TensorProduct(sigma_x,sigma_z)))\n",
    "    new_rho[3] = simplify(trace(rho*TensorProduct(sigma_x,sigma_3)))\n",
    "    new_rho[4] = simplify(trace(rho*TensorProduct(sigma_y,sigma_x)))\n",
    "    new_rho[5] = simplify(trace(rho*TensorProduct(sigma_y,sigma_y)))\n",
    "    new_rho[6] = simplify(trace(rho*TensorProduct(sigma_y,sigma_z)))\n",
    "    new_rho[7] = simplify(trace(rho*TensorProduct(sigma_y,sigma_3)))\n",
    "    new_rho[8] = simplify(trace(rho*TensorProduct(sigma_z,sigma_x)))\n",
    "    new_rho[9] = simplify(trace(rho*TensorProduct(sigma_z,sigma_y)))\n",
    "    new_rho[10] = simplify(trace(rho*TensorProduct(sigma_z,sigma_z)))\n",
    "    new_rho[11] = simplify(trace(rho*TensorProduct(sigma_z,sigma_3)))\n",
    "    new_rho[12] = simplify(trace(rho*TensorProduct(sigma_3,sigma_x)))\n",
    "    new_rho[13] = simplify(trace(rho*TensorProduct(sigma_3,sigma_y)))\n",
    "    new_rho[14] = simplify(trace(rho*TensorProduct(sigma_3,sigma_z)))\n",
    "    new_rho[15] = simplify(trace(rho*TensorProduct(sigma_3,sigma_3)))\n",
    "    \n",
    "    return(Rational(1,2)*new_rho)"
   ]
  },
  {
   "cell_type": "code",
   "execution_count": 15,
   "id": "intelligent-secretary",
   "metadata": {},
   "outputs": [
    {
     "data": {
      "image/png": "[encoded data removed]",
      "text/latex": [
       "$\\displaystyle - \\frac{4 S^{1}_{x} S^{2}_{x} \\omega_{B}^{3}}{\\omega_{C}^{2}} - \\frac{4 S^{1}_{y} S^{2}_{y} \\omega_{B}^{3}}{\\omega_{C}^{2}}$"
      ],
      "text/plain": [
       "               3                      3\n",
       "  4⋅S¹ₓ⋅S²ₓ⋅ω_B    4⋅S_y__1⋅S_y__2⋅ω_B \n",
       "- ────────────── - ────────────────────\n",
       "          2                   2        \n",
       "       ω_C                 ω_C         "
      ]
     },
     "execution_count": 15,
     "metadata": {},
     "output_type": "execute_result"
    }
   ],
   "source": [
    "(hilbert_to_prod_op(full_average).T*SS)[0]"
   ]
  },
  {
   "cell_type": "code",
   "execution_count": null,
   "id": "graphic-modification",
   "metadata": {},
   "outputs": [],
   "source": []
  }
 ],
 "metadata": {
  "kernelspec": {
   "display_name": "Python 3",
   "language": "python",
   "name": "python3"
  },
  "language_info": {
   "codemirror_mode": {
    "name": "ipython",
    "version": 3
   },
   "file_extension": ".py",
   "mimetype": "text/x-python",
   "name": "python",
   "nbconvert_exporter": "python",
   "pygments_lexer": "ipython3",
   "version": "3.9.2"
  }
 },
 "nbformat": 4,
 "nbformat_minor": 5
}
